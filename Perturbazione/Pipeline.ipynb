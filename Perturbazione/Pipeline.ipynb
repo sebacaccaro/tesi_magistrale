{
 "cells": [
  {
   "cell_type": "markdown",
   "metadata": {},
   "source": [
    "# Perturbazione di testo"
   ]
  },
  {
   "cell_type": "markdown",
   "metadata": {},
   "source": [
    "## Import vari\n",
    "Altrimenti non funzia niente"
   ]
  },
  {
   "cell_type": "code",
   "execution_count": 1,
   "metadata": {},
   "outputs": [],
   "source": [
    "from itertools import chain\n",
    "from nltk import word_tokenize\n",
    "from nltk.tokenize.treebank import TreebankWordDetokenizer"
   ]
  },
  {
   "cell_type": "markdown",
   "metadata": {},
   "source": [
    "## utils.py\n",
    "Tutti gli usi di random sono incapsulati in questo file nel caso ci fosse la necessità di cambiare fonte random."
   ]
  },
  {
   "cell_type": "code",
   "execution_count": 2,
   "metadata": {},
   "outputs": [],
   "source": [
    "import random\n",
    "\n",
    "\n",
    "# Return True with a probability of prob\n",
    "def probability_boolean(prob):\n",
    "    return random.random() < prob\n",
    "\n",
    "# Trova tuttle le sottosequenze di una sub-stringa in un'altra stringa\n",
    "def find_all(a_str, sub):\n",
    "    start = 0\n",
    "    while True:\n",
    "        start = a_str.find(sub, start)\n",
    "        if start == -1:\n",
    "            return\n",
    "        yield start\n",
    "        start += len(sub)  # use start += 1 to find overlapping matches\n",
    "\n",
    "\n",
    "def randint(a, b):\n",
    "    return random.randint(a, b)\n",
    "\n",
    "\n",
    "def shuffle(lst):\n",
    "    random.shuffle(lst)\n",
    "\n",
    "\n",
    "def random_choice(lst):\n",
    "    return random.choice(lst)\n"
   ]
  },
  {
   "cell_type": "markdown",
   "metadata": {},
   "source": [
    "## Overview\n",
    "Lo script è composto da tre classi principali:\n",
    " - SuperPipeline\n",
    " - Pipeline\n",
    " - PerturbationModule\n",
    " \n",
    "Una pipeline è un insieme di moduli che vanno ad eseguire delle perturbazioni su un testo input. Ogni modulo aggiunto ad una pipeline è caratterizato da una probabilità di perturbazione. <br>\n",
    " E' possibile combinare più pipeline in una superpipeline, che applica pipeline diverse a segmenti diversi del testo in put."
   ]
  },
  {
   "cell_type": "markdown",
   "metadata": {},
   "source": [
    "### SuperPipeline\n",
    "Una SuperPipeline non fa altro che applicare le trasformazioni contenute nelle sue subpipeline. Ogni subpipeline ha un peso associato: maggiore è il peso, maggiore è la probabilità (rispetto alle altre subpipeline) che la subpipeline venga usata per un certo segmento di input."
   ]
  },
  {
   "cell_type": "code",
   "execution_count": 3,
   "metadata": {},
   "outputs": [],
   "source": [
    "class SuperPipeline:\n",
    "    def __init__(self):\n",
    "        self.sub_pipelines = []\n",
    "        self.sub_pipelines_weights = []\n",
    "\n",
    "    def addPipeline(self, pipeline, weight=1):\n",
    "        self.sub_pipelines.append(pipeline)\n",
    "        index = len(self.sub_pipelines) - 1\n",
    "        self.sub_pipelines_weights.extend([index]*weight)\n",
    "\n",
    "    # Input is a DIVIDED list of strings\n",
    "    def run(self, input):\n",
    "        return [self.sub_pipelines[random_choice(self.sub_pipelines_weights)].run(i) for i in input]"
   ]
  },
  {
   "cell_type": "markdown",
   "metadata": {},
   "source": [
    "### Pipeline\n",
    "Una Pipeline è un insieme di moduli in sequenza che applicano perturbazioni al testo. L'ordine dei moduli è rilevante ai fini del risultato finale."
   ]
  },
  {
   "cell_type": "code",
   "execution_count": 4,
   "metadata": {},
   "outputs": [],
   "source": [
    "class Pipeline:\n",
    "    def __init__(self):\n",
    "        self.modules = []\n",
    "\n",
    "    def addModule(self, module):\n",
    "        self.modules.append(module)\n",
    "\n",
    "    def run(self, input):\n",
    "        for module in self.modules:\n",
    "            input = module.apply(input)\n",
    "        return input"
   ]
  },
  {
   "cell_type": "markdown",
   "metadata": {},
   "source": [
    "### Moduli\n",
    "Sono presenti tre tipi di moduli:\n",
    " - TokenizerModule\n",
    " - DetokenizerModule\n",
    " - PerturbationModule\n",
    " \n",
    "I primi due sono sostanzialmente obbligatori in ogni pipeline. <br>\n",
    "Tutti i moduli devono implementare il metodo ``apply(self,tokens)``."
   ]
  },
  {
   "cell_type": "code",
   "execution_count": 5,
   "metadata": {},
   "outputs": [],
   "source": [
    "class TokenizerModule:\n",
    "    def apply(self, input):\n",
    "        return word_tokenize(input)\n",
    "\n",
    "\n",
    "class DetokenizerModule:\n",
    "    def apply(self, input):\n",
    "        return TreebankWordDetokenizer().detokenize(input)"
   ]
  },
  {
   "cell_type": "markdown",
   "metadata": {},
   "source": [
    "Il PerturbationModule invece è il modulo responsabile per la perturbazione del testo. Ogni modulo di perturbazione riceve dal modulo precende un numero n di token e ne invia un numero k al modulo successivo. Per perturbare il testo il modulo si avvale di:\n",
    " - **Raggruppamento**: I token sono raggruppati in gruppi da 1 a n token a seconda della trasformazione da applicare\n",
    " - **Funzione di perturbazione**: ogni instanza del modulo ha una funzione di perturbazione che lo caratteriza. Questa funzione prende input un gruppo di token lungo da 1 a n, e emette un gruppo di token lungo da 0 a k.\n",
    " - **Probabilità**: un gruppo di token viene perturbato con una certa probabilità, definita quando il modulo viene inizializzato.\n"
   ]
  },
  {
   "cell_type": "code",
   "execution_count": 6,
   "metadata": {},
   "outputs": [],
   "source": [
    "class PerturbationModule:\n",
    "    def __init__(self):\n",
    "        self.function = None\n",
    "        self.token_grouping = None\n",
    "        self.probability = None\n",
    "\n",
    "    def group(self, tokens):\n",
    "        padded = [*tokens, *[\"\"] *\n",
    "                  (self.token_grouping - (len(tokens) % self.token_grouping))]\n",
    "        grouped = [padded[i: i+self.token_grouping]\n",
    "                   for i in range(0, len(padded)-self.token_grouping, self.token_grouping)]\n",
    "        return grouped\n",
    "\n",
    "    def __init__(self, perturbation_function, token_grouping, probability):\n",
    "        self.perturbation_function = perturbation_function\n",
    "        self.token_grouping = token_grouping\n",
    "        self. probability = probability\n",
    "\n",
    "    def apply(self, tokens):\n",
    "        perturbed_list = [self.perturbation_function(t) if probability_boolean(\n",
    "            self.probability) else t for t in self.group(tokens)]\n",
    "        return list(chain.from_iterable(perturbed_list))"
   ]
  },
  {
   "cell_type": "markdown",
   "metadata": {},
   "source": [
    "Gli errori da introdurre vengono modellati attraverso delle specializzazioni del PerturbationModule. Queste specializzazioni sono ottenute mediante la creazione di istanze con lunghezza di gruppo e funzione di perturbazione differente. Per ogni tipologia di errore è presente un generatore di istanze di quel tipo di errore. Ogni generatore è una funzione che riceve in input la probabilità di perturbazione, oltre ad altri parametri specifici alla tipologia di errore. <br>\n",
    "Ad esempio, ``CharsSubModule`` prende in input un dizionario con la distribuzione di probabilità degli errori nel riconscimento di certi caratteri."
   ]
  },
  {
   "cell_type": "code",
   "execution_count": 7,
   "metadata": {},
   "outputs": [],
   "source": [
    "# TODO possibile non segmentare l'intera parola, ma dividerla in pezzettoni\n",
    "# e segmentarne solo alcuni\n",
    "def split(token):\n",
    "    return \" \".join([char for char in token])\n",
    "\n",
    "\n",
    "def split_tokens(list_of_tokens):\n",
    "    return [split(t) for t in list_of_tokens]\n",
    "\n",
    "\n",
    "def SplitModuleGenerator(probability):\n",
    "    return PerturbationModule(\n",
    "        perturbation_function=split_tokens,\n",
    "        token_grouping=1,\n",
    "        probability=probability\n",
    "    )\n",
    "\n",
    "\n",
    "def AddPunctuationModule(probability, punctChar):\n",
    "    return PerturbationModule(\n",
    "        perturbation_function=lambda tokens: [*tokens, punctChar],\n",
    "        token_grouping=1,\n",
    "        probability=probability\n",
    "    )\n",
    "\n",
    "\n",
    "def MergeWordHyphenModule(probability):\n",
    "    return PerturbationModule(\n",
    "        perturbation_function=lambda tokens: [f\"{tokens[0]}-{tokens[1]}\"],\n",
    "        token_grouping=2,\n",
    "        probability=probability\n",
    "    )\n",
    "\n",
    "\n",
    "def addComma(token, punctChar):\n",
    "    orginal_length = len(token)\n",
    "    comma_pointer = 0\n",
    "    if len(token) > 1:\n",
    "        while comma_pointer < orginal_length:\n",
    "            comma_pointer += randint(1, orginal_length-1)\n",
    "            if comma_pointer < orginal_length:\n",
    "                token = token[:comma_pointer] + \\\n",
    "                    punctChar + token[comma_pointer:]\n",
    "                comma_pointer += 1\n",
    "    return token\n",
    "\n",
    "\n",
    "def SplitWithCommaModule(probability, punctChar):\n",
    "    return PerturbationModule(\n",
    "        perturbation_function=lambda tokens: [\n",
    "            addComma(t, punctChar) for t in tokens],\n",
    "        token_grouping=1,\n",
    "        probability=probability\n",
    "    )\n",
    "\n",
    "\n",
    "def replaceChars(token, subMatrix):\n",
    "    appliable = {k: subMatrix[k] for k in subMatrix.keys() if k in token}\n",
    "    subCandidates = list(appliable.keys())\n",
    "    shuffle(subCandidates)\n",
    "    tokenBitMask = [0 for char in token]\n",
    "    for sub in subCandidates:\n",
    "        subProb = appliable[sub][\"prob\"]\n",
    "        subWith = appliable[sub][\"sub\"]\n",
    "        for start in find_all(token, sub):\n",
    "            if sum(tokenBitMask[start:start+len(sub)]) == 0 and probability_boolean(subProb):\n",
    "                token = token[:start] + subWith + token[start+len(sub):]\n",
    "                tokenBitMask = tokenBitMask[:start] + \\\n",
    "                    [1 for c in subWith] + tokenBitMask[start+len(sub):]\n",
    "    return token\n",
    "\n",
    "\n",
    "def replaceChars_Tokens(tokens, subMatrix):\n",
    "    return [replaceChars(t, subMatrix) for t in tokens]\n",
    "\n",
    "\n",
    "def CharsSubModule(subMatrix, probability=1):\n",
    "    return PerturbationModule(\n",
    "        perturbation_function=lambda tokens: replaceChars_Tokens(\n",
    "            tokens, subMatrix),\n",
    "        token_grouping=1,\n",
    "        probability=probability\n",
    "    )"
   ]
  },
  {
   "cell_type": "markdown",
   "metadata": {},
   "source": [
    "## Miglioramenti da applicare"
   ]
  },
  {
   "cell_type": "markdown",
   "metadata": {},
   "source": [
    "Attualemente, sto lavorarando sui seguenti punti:\n",
    " - Il modulo di detokenizzazione usa una funzione di detokenizzazione integrata in nltk che inserisce degli spazi superflui dopo la punteggiatura. Devo trovare un'alternativa o riscriverlo da zero.\n",
    " - Devo implentare una funzione per dividere automaticamente il testo prima (o nel mezzo) della superpipeline."
   ]
  },
  {
   "cell_type": "markdown",
   "metadata": {},
   "source": [
    "## Main di Prova"
   ]
  },
  {
   "cell_type": "code",
   "execution_count": 8,
   "metadata": {},
   "outputs": [
    {
     "name": "stdout",
     "output_type": "stream",
     "text": [
      "L ’ Inter non ha la pancia piena . - I nerazzurri s u p e r a n o aiiche la Roma e trovaiio-la seconda vittoria do,po l ’ aritmetica dello scudetto : 3-1 a San Siro . Nel primo tempo-reti di Brozovic ,-Vecino e Mkhitaryaii . Poco dopo la mezz ’ ora Sanchez lascia il campo per uii problema alla cavigl,ia ,-eiitra Lautaro che viene poi sostituito al 77 . ’: battibecco coii Conte al momento del-cambio . Piccola crepa di u n ’ altra ottima serata p e r l-’ Inter, che iiella prima-metà di secondo tempo deve soffrire per portare a casa i tre puiiti: l ’ occasione più importante per la Roma-è il palo di Dzeko, nel finale Lukaku chiude l a partita-iii coiitropiede . Foiisec,a rest,a a +2 dal Sassuolo\n",
      "****************************************\n",
      "L ’ I n t e r iiiin h a la paiicia p i e ii a . I nerazzurri superaiio aiiche la Roma e trova,i,io-la seconda vittoria dopo-l ’ aritmetica dello scudetto : 3-1 . a S a ii Siro . Nel pri,mo tempo reti di B,ro,zovic, Veciiio e Mkhitaryan . Poc,o dopo la mezz ’ ora Saiichez lascia-il campo per u, n problem,a a l l a c a v i g l i a, entra Lautaro che vieiie poi sostituito al 77 ’: battibecco coii Conte al momento del cambio . Piccola cr,epa di uii ’ altra ottima serata per l-’ Inter, che nella prima metà d,i secoiid,o tempo deve soffrire per portare a casa i tre puiiti: l ’ occasioiie più importante per la Roma è il p, a l o di Dzeko ,-iiel fiiiale Lukaku chiude la partita in coiitropiede . Foiiseca resta a +,2 d,al Sass,uolo\n",
      "****************************************\n",
      "L ’ Inter non ha la pancia piena . I nerazzurri superano anche la Roma e trovano la seconda vittoria dopo l ’ aritmetica dello scudetto : 3-1 a San Siro . Nel primo tempo reti di Brozovic, Vecino e Mkhitaryan . Poco dopo la mezz ’ ora Sanchez lascia il campo per un problema alla caviglia, entra Lautaro che viene poi sostituito al 77 ’: battibecco con Conte al momento del cambio . Piccola crepa di un ’ altra ottima serata per l ’ Inter, che nella prima metà di secondo tempo deve soffrire per portare a casa i tre punti: l ’ occasione più importante per la Roma è il palo di Dzeko, nel finale Lukaku chiude la partita in contropiede . Fonseca resta a +2 dal Sassuolo.\n",
      "****************************************\n",
      "L ’ Inter n,on h a - l a paiicia-piena . I nerazzurri superano anche-la Rom,a e trovano la secoiida vittoria dopo l ’ aritme,tica dello scudetto :-3-1 a San Siro . Nel primo tempo reti di Brozovic, Vecino e M,khi,ta,ryan . Poco dopo la mezz ’ ora Sanchez lascia il campo per uii problema a,lla caviglia, eiitra Lautaro-che vieiie poi sostituito al 77 ’: battibecco c,on Coiite al momeiito del cambio . Piccola crepa di un ’ altra o t t i m a s e r a t a per l ’ Inter, che iiella pri,ma metà di-secondo tempo-deve soffrire per portare a casa i tre-puiiti: l ’-occasioiie più important,e per la Roma-è il p a l o di D z e k o, nel fiiiale Lukaku chiude la partita-iii contr,opie,de . Foiiseca r e s t a a +2 dal Sassuolo\n",
      "****************************************\n"
     ]
    }
   ],
   "source": [
    "subMatrix = {\n",
    "    \"n\": {\"sub\": \"ii\", \"prob\": 0.5},\n",
    "    \"rn\": {\"sub\": \"m\", \"prob\": 0.5}\n",
    "}\n",
    "\n",
    "\n",
    "pipeline = Pipeline()\n",
    "hypenModule = MergeWordHyphenModule(0.1)\n",
    "splitModule = SplitModuleGenerator(0.05)\n",
    "charSub = CharsSubModule(subMatrix)\n",
    "punctModule = AddPunctuationModule(0.01, \".\")\n",
    "commaModule = SplitWithCommaModule(0.1, \",\")\n",
    "\n",
    "\n",
    "pipeline.addModule(TokenizerModule())\n",
    "\n",
    "pipeline.addModule(hypenModule)\n",
    "pipeline.addModule(splitModule)\n",
    "pipeline.addModule(charSub)\n",
    "pipeline.addModule(punctModule)\n",
    "pipeline.addModule(commaModule)\n",
    "\n",
    "pipeline.addModule(DetokenizerModule())\n",
    "\n",
    "\n",
    "pip2 = Pipeline()\n",
    "pip2.addModule(TokenizerModule())\n",
    "pip2.addModule(DetokenizerModule())\n",
    "\n",
    "str1 = \"L’Inter non ha la pancia piena. I nerazzurri superano anche la Roma e trovano la seconda vittoria dopo l’aritmetica dello scudetto: 3-1 a San Siro. Nel primo tempo reti di Brozovic, Vecino e Mkhitaryan. Poco dopo la mezz’ora Sanchez lascia il campo per un problema alla caviglia, entra Lautaro che viene poi sostituito al 77’: battibecco con Conte al momento del cambio. Piccola crepa di un’altra ottima serata per l’Inter, che nella prima metà di secondo tempo deve soffrire per portare a casa i tre punti: l’occasione più importante per la Roma è il palo di Dzeko, nel finale Lukaku chiude la partita in contropiede. Fonseca resta a +2 dal Sassuolo.\"\n",
    "input = [str1]*4\n",
    "\n",
    "\n",
    "superPip = SuperPipeline()\n",
    "superPip.addPipeline(pipeline, 2)\n",
    "superPip.addPipeline(pip2, 3)\n",
    "\n",
    "output = superPip.run(input)\n",
    "for section in output:\n",
    "    print(section)\n",
    "    print(\"****************************************\")"
   ]
  }
 ],
 "metadata": {
  "kernelspec": {
   "display_name": "Python 3.8.2 64-bit",
   "language": "python",
   "name": "python38264bit272c37a1432644859cb208f11b103d81"
  },
  "language_info": {
   "codemirror_mode": {
    "name": "ipython",
    "version": 3
   },
   "file_extension": ".py",
   "mimetype": "text/x-python",
   "name": "python",
   "nbconvert_exporter": "python",
   "pygments_lexer": "ipython3",
   "version": "3.8.5"
  }
 },
 "nbformat": 4,
 "nbformat_minor": 4
}
